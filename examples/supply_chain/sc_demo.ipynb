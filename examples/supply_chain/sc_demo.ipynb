{
 "cells": [
  {
   "cell_type": "markdown",
   "metadata": {},
   "source": [
    "# Step 1a: Customize your supply chain - defining facility template (optional)\n",
    "- Facility templates are to define different types of facilities in a supply chain\n",
    "- A facility template defines not only what kinds of agents it contains but also how they perform (class)\n",
    "- In a facility template, you can also assign agents to different \"agent_type\" to group agents\n",
    "- For example, the following codes define a store template of a retailer:\n",
    "-- Each store can be seen as a facility with a list of \"products\" and \"storage\" capacity\n",
    "-- Each product in the store has both \"consumer\" and \"seller\" behaviors to denote that it can place replenishing orders and be sold to customers."
   ]
  },
  {
   "cell_type": "code",
   "execution_count": null,
   "metadata": {},
   "outputs": [],
   "source": [
    "\"\"\"\n",
    "    RetailerFacility: &retailer_facility             \n",
    "    class: \"RetailerFacility\"                        \n",
    "    children:\n",
    "      storage:\n",
    "        class: \"StorageUnit\"\n",
    "      products:\n",
    "        class: \"StoreProductUnit\"\n",
    "        is_template: true\n",
    "        config:\n",
    "          agent_type: \"productstore\"\n",
    "          consumer:\n",
    "            class: \"ConsumerUnit\"\n",
    "            config:\n",
    "              agent_type: \"consumerstore\"\n",
    "          seller:\n",
    "            class: \"SellerUnit\"\n",
    "            config:\n",
    "              sale_hist_len: 4\n",
    "    config:\n",
    "      agent_type: \"facility\"\n",
    "\"\"\""
   ]
  },
  {
   "cell_type": "markdown",
   "metadata": {},
   "source": [
    "# Step 1b: Instantiate all facilities in the supply chain\n",
    "- Refer a facility template defined before\n",
    "- Instantiate parameters of each sub-agent\n",
    "- Below is an example showing how a supplier and a retailer can be instantiated."
   ]
  },
  {
   "cell_type": "code",
   "execution_count": null,
   "metadata": {},
   "outputs": [],
   "source": [
    "\"\"\"\n",
    "    facilities:\n",
    "        - name: \"Supplier_001\" # name of the facility\n",
    "          definition_ref: \"SupplierFacility\"\n",
    "          # sku list of this facility\n",
    "          skus:\n",
    "            sku1: # sku name and attributes needed for this facility\n",
    "              init_stock: 1000\n",
    "              product_unit_cost: 90\n",
    "              production_rate: 1000\n",
    "              type: \"production\"\n",
    "              cost: 90\n",
    "              price: 100\n",
    "              vlt: 2\n",
    "           sku2:\n",
    "              init_stock: 1000\n",
    "              product_unit_cost: 150\n",
    "              production_rate: 1000\n",
    "              type: \"production\"\n",
    "              cost: 150\n",
    "              price: 200\n",
    "              vlt: 3\n",
    "         children:\n",
    "            storage: \n",
    "            distribution:\n",
    "          # config of this facility\n",
    "          config:\n",
    "            delay_order_penalty: 100\n",
    "            order_cost: 10\n",
    "        \n",
    "    - name: \"Retailer_001\"\n",
    "          definition_ref: \"RetailerFacility\"\n",
    "          skus:\n",
    "            sku1:\n",
    "              price: 200\n",
    "              cost: 100\n",
    "              init_stock: 40\n",
    "              sale_gamma: 20\n",
    "              backlog_ratio: 0.1\n",
    "              vlt: 1\n",
    "            sku2:\n",
    "              price: 350\n",
    "              cost: 200\n",
    "              init_stock: 160\n",
    "              sale_gamma: 80\n",
    "              backlog_ratio: 0.1\n",
    "              vlt: 1\n",
    "         children:\n",
    "            storage: *small_storage\n",
    "\"\"\"\n",
    "\n",
    "\n"
   ]
  },
  {
   "cell_type": "markdown",
   "metadata": {},
   "source": [
    "# In case we want to define a retailer store with demands of SKUs are sampled from historical data, this can be simply done by changing the \"class\" of seller, see below for instance."
   ]
  },
  {
   "cell_type": "markdown",
   "metadata": {},
   "source": [
    "\"\"\"\n",
    "    RetailerFacility: &raw_data_retailer_facility\n",
    "        class: \"OuterRetailerFacility\"\n",
    "        children:\n",
    "          storage:\n",
    "            class: \"StorageUnit\"\n",
    "          products:\n",
    "            class: \"StoreProductUnit\"\n",
    "            is_template: true\n",
    "            config:\n",
    "              agent_type: \"consumer\"\n",
    "              consumer:\n",
    "                class: \"ConsumerUnit\"\n",
    "              seller:\n",
    "                class: \"RawDataSellerUnit\"    ######################\n",
    "                config:\n",
    "                  sale_hist_len: 4\n",
    "        config:\n",
    "          agent_type: \"facility\"\n",
    "          seller_sampler_type: data\n",
    "          sku_column: \"SKU\"\n",
    "          price_column: \"Price\"\n",
    "          sale_column: \"Sales\"\n",
    "          datetime_column: \"DT\"\n",
    "          file_path: \"/path/to/data.csv\"\n",
    "      \n",
    "\"\"\""
   ]
  },
  {
   "cell_type": "markdown",
   "metadata": {},
   "source": [
    "# Step 2: Defining fulfillment relation"
   ]
  },
  {
   "cell_type": "code",
   "execution_count": null,
   "metadata": {},
   "outputs": [],
   "source": [
    "\"\"\"\n",
    "      topology:\n",
    "        Warehouse_001:\n",
    "          sku1:\n",
    "            - \"Supplier_001\"\n",
    "          sku2:\n",
    "            - \"Supplier_001\"\n",
    "          sku3:\n",
    "            - \"Supplier_001\"\n",
    "        Retailer_001:\n",
    "          sku1:\n",
    "            - \"Warehouse_001\"\n",
    "          sku2:\n",
    "            - \"Warehouse_001\"\n",
    "          sku3:\n",
    "            - \"Warehouse_001\"\n",
    "\"\"\""
   ]
  },
  {
   "cell_type": "markdown",
   "metadata": {},
   "source": [
    "# Step 3: Defining inventory policies"
   ]
  },
  {
   "cell_type": "code",
   "execution_count": 16,
   "metadata": {},
   "outputs": [
    {
     "ename": "ModuleNotFoundError",
     "evalue": "No module named 'maro'",
     "output_type": "error",
     "traceback": [
      "\u001b[1;31m---------------------------------------------------------------------------\u001b[0m",
      "\u001b[1;31mModuleNotFoundError\u001b[0m                       Traceback (most recent call last)",
      "\u001b[1;32m<ipython-input-16-b4fab2843222>\u001b[0m in \u001b[0;36m<module>\u001b[1;34m\u001b[0m\n\u001b[0;32m      4\u001b[0m \u001b[1;32mimport\u001b[0m \u001b[0mtorch\u001b[0m\u001b[1;33m\u001b[0m\u001b[1;33m\u001b[0m\u001b[0m\n\u001b[0;32m      5\u001b[0m \u001b[1;33m\u001b[0m\u001b[0m\n\u001b[1;32m----> 6\u001b[1;33m from maro.rl import (\n\u001b[0m\u001b[0;32m      7\u001b[0m     \u001b[0mDQN\u001b[0m\u001b[1;33m,\u001b[0m \u001b[0mDQNConfig\u001b[0m\u001b[1;33m,\u001b[0m \u001b[0mEpisodeBasedSchedule\u001b[0m\u001b[1;33m,\u001b[0m \u001b[0mFullyConnectedBlock\u001b[0m\u001b[1;33m,\u001b[0m \u001b[0mNullPolicy\u001b[0m\u001b[1;33m,\u001b[0m \u001b[0mOptimOption\u001b[0m\u001b[1;33m,\u001b[0m \u001b[0mQNetForDiscreteActionSpace\u001b[0m\u001b[1;33m,\u001b[0m\u001b[1;33m\u001b[0m\u001b[1;33m\u001b[0m\u001b[0m\n\u001b[0;32m      8\u001b[0m     \u001b[0mStepBasedSchedule\u001b[0m\u001b[1;33m,\u001b[0m \u001b[0mUniformSampler\u001b[0m\u001b[1;33m\u001b[0m\u001b[1;33m\u001b[0m\u001b[0m\n",
      "\u001b[1;31mModuleNotFoundError\u001b[0m: No module named 'maro'"
     ]
    }
   ],
   "source": [
    "import sys\n",
    "from os.path import dirname, realpath\n",
    "import numpy as np\n",
    "import torch\n",
    "\n",
    "from maro.rl import (\n",
    "    DQN, DQNConfig, EpisodeBasedSchedule, FullyConnectedBlock, NullPolicy, OptimOption, QNetForDiscreteActionSpace,\n",
    "    StepBasedSchedule, UniformSampler\n",
    ")\n",
    "\n",
    "from or_policy.minmax_policy import ConsumerMinMaxPolicy\n",
    "from or_policy.eoq_policy import ConsumerEOQPolicy as ProducerEOQPolicy\n",
    "from or_policy.base_policy import ProducerBaselinePolicy\n",
    "\n",
    "sc_code_dir = dirname(realpath(__file__))\n",
    "sys.path.insert(0, sc_code_dir)\n",
    "from config import config\n",
    "\n",
    "def get_dqn_consumer_policy(config):\n",
    "    q_net = SimpleQNet(\n",
    "        FullyConnectedBlock(**cfg[\"model\"][\"network\"]),\n",
    "        optim_option=OptimOption(**cfg[\"model\"][\"optimization\"]),\n",
    "        device=cfg[\"model\"][\"device\"]\n",
    "    )\n",
    "    experience_manager = UniformSampler(**cfg[\"experience_manager\"])\n",
    "    return DQN(q_net, experience_manager, DQNConfig(**cfg[\"algorithm_config\"]))\n",
    "\n",
    "def get_eoq_producer_policy(config):\n",
    "    return ProducerEOQPolicy(config)"
   ]
  },
  {
   "cell_type": "markdown",
   "metadata": {},
   "source": [
    "# Step 4: Mapping agents to policies"
   ]
  },
  {
   "cell_type": "code",
   "execution_count": null,
   "metadata": {},
   "outputs": [],
   "source": [
    "config = {}\n",
    "policy_dict = {\n",
    "    'consumer': get_dqn_consumer_policy(config),\n",
    "    'producer': get_eoq_producer_policy(config)\n",
    "}"
   ]
  },
  {
   "cell_type": "markdown",
   "metadata": {},
   "source": [
    "# Step 5: Training and evaluation"
   ]
  },
  {
   "cell_type": "code",
   "execution_count": 15,
   "metadata": {},
   "outputs": [
    {
     "name": "stderr",
     "output_type": "stream",
     "text": [
      "/bin/bash: run.sh: No such file or directory\n"
     ]
    }
   ],
   "source": [
    "!bash run.sh"
   ]
  }
 ],
 "metadata": {
  "kernelspec": {
   "display_name": "Python 3",
   "language": "python",
   "name": "python3"
  },
  "language_info": {
   "codemirror_mode": {
    "name": "ipython",
    "version": 3
   },
   "file_extension": ".py",
   "mimetype": "text/x-python",
   "name": "python",
   "nbconvert_exporter": "python",
   "pygments_lexer": "ipython3",
   "version": "3.7.6"
  }
 },
 "nbformat": 4,
 "nbformat_minor": 4
}
